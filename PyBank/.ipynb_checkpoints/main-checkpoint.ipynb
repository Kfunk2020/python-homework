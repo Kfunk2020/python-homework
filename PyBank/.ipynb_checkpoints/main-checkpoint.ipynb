{
 "cells": [
  {
   "cell_type": "code",
   "execution_count": 1,
   "metadata": {},
   "outputs": [],
   "source": [
    "# Import the pathlib and csv library\n",
    "from pathlib import Path\n",
    "import csv\n"
   ]
  },
  {
   "cell_type": "code",
   "execution_count": 2,
   "metadata": {},
   "outputs": [],
   "source": [
    "# Set the path of the file \n",
    "csvpath = Path(\"Resources/budget_data.csv\")"
   ]
  },
  {
   "cell_type": "code",
   "execution_count": 21,
   "metadata": {},
   "outputs": [],
   "source": [
    "total_months = 0\n",
    "total_net = 0\n",
    "dollar_change = []\n",
    "monthly_changes = 0\n",
    "initial_profits = []\n",
    "greatest_increase = 0\n",
    "greatest_decrease = 0\n",
    "month_greatest = \"\"\n",
    "month_decrease = \"\""
   ]
  },
  {
   "cell_type": "code",
   "execution_count": 22,
   "metadata": {},
   "outputs": [],
   "source": [
    "# Now lets open the file to start doing some work\n",
    "with open(csvpath) as main_data:\n",
    "     # Pass in the csv file to the csv.reader() function\n",
    "    # (with ',' as the delmiter/separator) and return the csvreader object\n",
    "    csv_reader = csv.reader(main_data, delimiter = \",\")\n",
    "    #print(csv_reader)\n",
    "    #Let skip the header and go to the first value of the row\n",
    "    csv_header = next(csv_reader)\n",
    "    #print(csv_header)\n",
    "    \n",
    "    # Lets answering the questions\n",
    "    \n",
    "    \n",
    "    for x in csv_reader:\n",
    "        \n",
    "        # Calculate total number of months\n",
    "        total_months = total_months + 1\n",
    "        \n",
    "        # Calculate total net value\n",
    "        total_net = total_net + int(x[1])\n",
    "        \n",
    "        #Let calcualte monthly changes\n",
    "        PandL = int(x[1])\n",
    "        \n",
    "        if total_months ==1:\n",
    "            dollar_change = x[1]\n",
    "            initial_profits.append(x[1])\n",
    "            index = 0\n",
    "        \n",
    "        else:\n",
    "            dollar_change = PandL - int(initial_profits[index])\n",
    "            initial_profits.append(x[1])\n",
    "            index = index + 1\n",
    "            monthly_changes = monthly_changes + dollar_change\n",
    "            \n",
    "        if int(dollar_change) > greatest_increase:\n",
    "            greatest_increase = int(dollar_change)\n",
    "            month_gratest = x[0] # selecting the month with respect to the list where it found the greatest increase\n",
    "            \n",
    "        if int(dollar_change) < greatest_decrease:\n",
    "            greatest_decrease = int(dollar_change)\n",
    "            month_decrease = x[0]\n",
    "        \n",
    "average_changes  = monthly_changes / (total_months - 1)      \n",
    "        \n",
    "    "
   ]
  },
  {
   "cell_type": "code",
   "execution_count": 23,
   "metadata": {},
   "outputs": [
    {
     "name": "stdout",
     "output_type": "stream",
     "text": [
      "86\n",
      "38382578\n",
      "-2315.1176470588234\n",
      "-2196167\n",
      "1926159\n",
      "Feb-2012\n"
     ]
    }
   ],
   "source": [
    "print(total_months)\n",
    "print(total_net)\n",
    "print(average_changes)\n",
    "print(greatest_decrease)\n",
    "print(greatest_increase)\n",
    "print(month_gratest)"
   ]
  }
 ],
 "metadata": {
  "kernelspec": {
   "display_name": "Python 3",
   "language": "python",
   "name": "python3"
  },
  "language_info": {
   "codemirror_mode": {
    "name": "ipython",
    "version": 3
   },
   "file_extension": ".py",
   "mimetype": "text/x-python",
   "name": "python",
   "nbconvert_exporter": "python",
   "pygments_lexer": "ipython3",
   "version": "3.8.3"
  }
 },
 "nbformat": 4,
 "nbformat_minor": 4
}
